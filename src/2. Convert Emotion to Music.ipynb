{
 "cells": [
  {
   "cell_type": "code",
   "execution_count": 2,
   "id": "b76cb178",
   "metadata": {},
   "outputs": [
    {
     "name": "stdout",
     "output_type": "stream",
     "text": [
      "Collecting pygame\n",
      "  Downloading pygame-2.0.1-cp38-cp38-win_amd64.whl (5.2 MB)\n",
      "Installing collected packages: pygame\n",
      "Successfully installed pygame-2.0.1\n"
     ]
    }
   ],
   "source": [
    "!pip install pygame"
   ]
  },
  {
   "cell_type": "code",
   "execution_count": 1,
   "id": "9b651a47",
   "metadata": {},
   "outputs": [
    {
     "name": "stdout",
     "output_type": "stream",
     "text": [
      "pygame 2.0.1 (SDL 2.0.14, Python 3.8.8)\n",
      "Hello from the pygame community. https://www.pygame.org/contribute.html\n"
     ]
    }
   ],
   "source": [
    "from threading import Thread\n",
    "import pygame as pg\n",
    "import time"
   ]
  },
  {
   "cell_type": "code",
   "execution_count": 2,
   "id": "5da5265d",
   "metadata": {},
   "outputs": [
    {
     "data": {
      "text/plain": [
       "(7, 0)"
      ]
     },
     "execution_count": 2,
     "metadata": {},
     "output_type": "execute_result"
    }
   ],
   "source": [
    "pg.mixer.init()\n",
    "pg.init()"
   ]
  },
  {
   "cell_type": "code",
   "execution_count": 3,
   "id": "e7dc5cce",
   "metadata": {},
   "outputs": [],
   "source": [
    "play_list = ['d3', 'd3', 'd3', 'd3', 'g4', 'd3', 'd3', 'd3', 'd3', 'd3', 'd3', 'd3', 'a4', 'd3', 'd3', 'd3', 'd3', 'c7', 'd3', 'd3', 'd3', 'd3', 'd3', 'd3']"
   ]
  },
  {
   "cell_type": "code",
   "execution_count": 3,
   "id": "7acf5e7f",
   "metadata": {},
   "outputs": [],
   "source": [
    "play_list = ['d3', 'd3', 'a4', 'd3', 'd3', 'd3', 'd3', 'd3', 'd3', 'd3', 'b5', 'd3']"
   ]
  },
  {
   "cell_type": "code",
   "execution_count": 4,
   "id": "d9d13bda",
   "metadata": {},
   "outputs": [],
   "source": [
    "pg.mixer.set_num_channels(len(play_list))"
   ]
  },
  {
   "cell_type": "code",
   "execution_count": 5,
   "id": "a80cb1e8",
   "metadata": {},
   "outputs": [],
   "source": [
    "def play_notes(notePath,duration):\n",
    "    time.sleep(duration) # make a pause \n",
    "    pg.mixer.Sound(notePath).play()\n",
    "    time.sleep(duration) # Let the sound play \n",
    "    print(notePath)"
   ]
  },
  {
   "cell_type": "code",
   "execution_count": 6,
   "id": "5f472deb",
   "metadata": {},
   "outputs": [],
   "source": [
    "path  = 'C:\\\\Users\\\\Hp\\\\Documents\\\\Studies\\\\Industry Project- SCRIBBALM\\\\25405__tedagame__88-piano-keys-long-reverb\\\\'\n",
    "\n",
    "cnt =1"
   ]
  },
  {
   "cell_type": "code",
   "execution_count": 7,
   "id": "21222a5a",
   "metadata": {},
   "outputs": [],
   "source": [
    "th = {}"
   ]
  },
  {
   "cell_type": "code",
   "execution_count": 8,
   "id": "edc3f60e",
   "metadata": {},
   "outputs": [
    {
     "name": "stdout",
     "output_type": "stream",
     "text": [
      "C:\\Users\\Hp\\Documents\\Studies\\Industry Project- SCRIBBALM\\25405__tedagame__88-piano-keys-long-reverb\\d3.ogg\n",
      "C:\\Users\\Hp\\Documents\\Studies\\Industry Project- SCRIBBALM\\25405__tedagame__88-piano-keys-long-reverb\\d3.ogg\n",
      "C:\\Users\\Hp\\Documents\\Studies\\Industry Project- SCRIBBALM\\25405__tedagame__88-piano-keys-long-reverb\\a4.ogg\n",
      "C:\\Users\\Hp\\Documents\\Studies\\Industry Project- SCRIBBALM\\25405__tedagame__88-piano-keys-long-reverb\\d3.ogg\n",
      "C:\\Users\\Hp\\Documents\\Studies\\Industry Project- SCRIBBALM\\25405__tedagame__88-piano-keys-long-reverb\\d3.ogg\n",
      "---Long Pause---\n",
      "C:\\Users\\Hp\\Documents\\Studies\\Industry Project- SCRIBBALM\\25405__tedagame__88-piano-keys-long-reverb\\d3.ogg\n",
      "C:\\Users\\Hp\\Documents\\Studies\\Industry Project- SCRIBBALM\\25405__tedagame__88-piano-keys-long-reverb\\d3.ogg\n",
      "C:\\Users\\Hp\\Documents\\Studies\\Industry Project- SCRIBBALM\\25405__tedagame__88-piano-keys-long-reverb\\d3.ogg\n",
      "C:\\Users\\Hp\\Documents\\Studies\\Industry Project- SCRIBBALM\\25405__tedagame__88-piano-keys-long-reverb\\d3.ogg\n",
      "C:\\Users\\Hp\\Documents\\Studies\\Industry Project- SCRIBBALM\\25405__tedagame__88-piano-keys-long-reverb\\d3.ogg\n",
      "---Long Pause---\n",
      "C:\\Users\\Hp\\Documents\\Studies\\Industry Project- SCRIBBALM\\25405__tedagame__88-piano-keys-long-reverb\\b5.ogg\n",
      "C:\\Users\\Hp\\Documents\\Studies\\Industry Project- SCRIBBALM\\25405__tedagame__88-piano-keys-long-reverb\\d3.ogg\n"
     ]
    }
   ],
   "source": [
    "for t in play_list:\n",
    "    th[t] = Thread(target = play_notes,args = (path+'{}.ogg'.format(t),0.3))\n",
    "    th[t].start()\n",
    "    th[t].join()\n",
    "    if cnt%5==0:\n",
    "        print(\"---Long Pause---\")\n",
    "        time.sleep(1)\n",
    "    cnt+=1"
   ]
  },
  {
   "cell_type": "code",
   "execution_count": null,
   "id": "19a52548",
   "metadata": {},
   "outputs": [],
   "source": []
  },
  {
   "cell_type": "code",
   "execution_count": null,
   "id": "fc5cad13",
   "metadata": {},
   "outputs": [],
   "source": []
  }
 ],
 "metadata": {
  "kernelspec": {
   "display_name": "Python 3",
   "language": "python",
   "name": "python3"
  },
  "language_info": {
   "codemirror_mode": {
    "name": "ipython",
    "version": 3
   },
   "file_extension": ".py",
   "mimetype": "text/x-python",
   "name": "python",
   "nbconvert_exporter": "python",
   "pygments_lexer": "ipython3",
   "version": "3.8.8"
  }
 },
 "nbformat": 4,
 "nbformat_minor": 5
}
